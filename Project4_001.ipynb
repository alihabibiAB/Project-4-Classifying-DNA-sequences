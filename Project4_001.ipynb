{
 "cells": [
  {
   "cell_type": "code",
   "execution_count": 1,
   "metadata": {},
   "outputs": [],
   "source": [
    "import pandas as pd\n",
    "import numpy as np\n",
    "import matplotlib.pyplot as plt\n",
    "import seaborn as sns\n",
    "# sklearn libraries\n",
    "from sklearn.svm import SVC\n",
    "from sklearn.model_selection import train_test_split, GridSearchCV, cross_val_score\n",
    "from sklearn.preprocessing import LabelEncoder\n",
    "from sklearn.feature_extraction.text import CountVectorizer, TfidfVectorizer\n",
    "from sklearn.metrics import classification_report, confusion_matrix,accuracy_score\n",
    "from sklearn.pipeline import Pipeline\n",
    "from sklearn.naive_bayes import BernoulliNB\n",
    "from sklearn.ensemble import RandomForestClassifier, ExtraTreesClassifier\n",
    "# import keras models\n",
    "from keras.preprocessing.sequence import pad_sequences\n",
    "from keras.preprocessing.text import Tokenizer\n",
    "from keras.models import Sequential\n",
    "from keras.layers import LSTM, Dense\n",
    "from keras.layers.embeddings import Embedding\n",
    "from keras.utils import to_categorical\n",
    "from keras.layers import Bidirectional\n",
    "\n",
    "%matplotlib inline"
   ]
  },
  {
   "cell_type": "code",
   "execution_count": 2,
   "metadata": {},
   "outputs": [],
   "source": [
    "def getseq(data): \n",
    "    all_data = [rows for rows in data[0]]\n",
    "    return [all_data[i] for i in range(1,len(all_data)) if i%2!=0]"
   ]
  },
  {
   "cell_type": "code",
   "execution_count": 3,
   "metadata": {},
   "outputs": [],
   "source": [
    "prom_raw = pd.read_csv('./data/PromoterSequence.txt', header=None)\n",
    "nonprom_raw = pd.read_csv('./data/NonPromoterSequence.txt', header=None)"
   ]
  },
  {
   "cell_type": "code",
   "execution_count": 4,
   "metadata": {},
   "outputs": [],
   "source": [
    "prom = getseq(prom_raw)\n",
    "nonprom = getseq(nonprom_raw)"
   ]
  },
  {
   "cell_type": "code",
   "execution_count": 5,
   "metadata": {},
   "outputs": [],
   "source": [
    "prom_df = pd.DataFrame(prom)\n",
    "prom_df['label'] = 1\n",
    "prom_df.rename({0:'sequence','label':'label'},axis=1, inplace=True)"
   ]
  },
  {
   "cell_type": "code",
   "execution_count": 6,
   "metadata": {},
   "outputs": [],
   "source": [
    "nonprom_df = pd.DataFrame(nonprom)\n",
    "nonprom_df['label'] = 0\n",
    "nonprom_df.rename({0:'sequence','label':'label'},axis=1,inplace=True)"
   ]
  },
  {
   "cell_type": "code",
   "execution_count": 7,
   "metadata": {},
   "outputs": [],
   "source": [
    "#df = pd.concat([prom_df,nonprom_df], axis=0, ignore_index=True)"
   ]
  },
  {
   "cell_type": "code",
   "execution_count": 8,
   "metadata": {},
   "outputs": [
    {
     "data": {
      "text/plain": [
       "301"
      ]
     },
     "execution_count": 8,
     "metadata": {},
     "output_type": "execute_result"
    }
   ],
   "source": [
    "sequence_promo=[seq for seq in prom_df['sequence']]\n",
    "len(sequence_promo[0])"
   ]
  },
  {
   "cell_type": "code",
   "execution_count": 9,
   "metadata": {},
   "outputs": [],
   "source": [
    "#[row for row in df.]\n",
    "words_promo = []\n",
    "for row in sequence_promo:\n",
    "    if len(row)%4==0:\n",
    "        words_promo.append([(row[i:i+4]) for i in range(0, len(row), 4)])\n",
    "    else:\n",
    "        remove = len(row) % 4\n",
    "        row = row[:-remove]\n",
    "        words_promo.append([(row[i:i+4]) for i in range(0, len(row), 4)])"
   ]
  },
  {
   "cell_type": "code",
   "execution_count": 10,
   "metadata": {
    "scrolled": true
   },
   "outputs": [
    {
     "data": {
      "text/plain": [
       "11300"
      ]
     },
     "execution_count": 10,
     "metadata": {},
     "output_type": "execute_result"
    }
   ],
   "source": [
    "len(words_promo)"
   ]
  },
  {
   "cell_type": "code",
   "execution_count": 11,
   "metadata": {},
   "outputs": [],
   "source": [
    "sequence_nonprom=[seq for seq in nonprom_df['sequence']]"
   ]
  },
  {
   "cell_type": "code",
   "execution_count": 12,
   "metadata": {},
   "outputs": [],
   "source": [
    "words_nonprom = []\n",
    "for row in sequence_nonprom:\n",
    "    if len(row)%4==0:\n",
    "            words_nonprom.append([(row[i:i+4]) for i in range(0, len(row), 4)])\n",
    "    else:\n",
    "        remove = len(row) % 4\n",
    "        row = row[:-remove]\n",
    "        words_nonprom.append([(row[i:i+4]) for i in range(0, len(row), 4)])"
   ]
  },
  {
   "cell_type": "code",
   "execution_count": 13,
   "metadata": {
    "scrolled": true
   },
   "outputs": [
    {
     "data": {
      "text/plain": [
       "11300"
      ]
     },
     "execution_count": 13,
     "metadata": {},
     "output_type": "execute_result"
    }
   ],
   "source": [
    "len(words_nonprom)"
   ]
  },
  {
   "cell_type": "code",
   "execution_count": 14,
   "metadata": {},
   "outputs": [],
   "source": [
    "for i in range(len(words_promo)):\n",
    "    words_promo[i] = \" \".join(words_promo[i])\n"
   ]
  },
  {
   "cell_type": "code",
   "execution_count": 15,
   "metadata": {},
   "outputs": [],
   "source": [
    "for i in range(len(words_nonprom)):\n",
    "    words_nonprom[i] = \" \".join(words_nonprom[i])\n"
   ]
  },
  {
   "cell_type": "code",
   "execution_count": 16,
   "metadata": {},
   "outputs": [],
   "source": [
    "df_promo = pd.DataFrame(words_promo)"
   ]
  },
  {
   "cell_type": "code",
   "execution_count": 17,
   "metadata": {},
   "outputs": [],
   "source": [
    "df_non_promo = pd.DataFrame(words_nonprom)"
   ]
  },
  {
   "cell_type": "code",
   "execution_count": 18,
   "metadata": {},
   "outputs": [],
   "source": [
    "df_promo.to_csv('promo.csv', index=False, header=False)"
   ]
  },
  {
   "cell_type": "code",
   "execution_count": 19,
   "metadata": {},
   "outputs": [],
   "source": [
    "df_non_promo.to_csv('non_promo.csv', index=False, header=False)"
   ]
  },
  {
   "cell_type": "code",
   "execution_count": 20,
   "metadata": {},
   "outputs": [],
   "source": [
    "df_promo['label'] = 1\n",
    "df_non_promo['label'] = 0"
   ]
  },
  {
   "cell_type": "code",
   "execution_count": 21,
   "metadata": {},
   "outputs": [
    {
     "data": {
      "text/html": [
       "<div>\n",
       "<style scoped>\n",
       "    .dataframe tbody tr th:only-of-type {\n",
       "        vertical-align: middle;\n",
       "    }\n",
       "\n",
       "    .dataframe tbody tr th {\n",
       "        vertical-align: top;\n",
       "    }\n",
       "\n",
       "    .dataframe thead th {\n",
       "        text-align: right;\n",
       "    }\n",
       "</style>\n",
       "<table border=\"1\" class=\"dataframe\">\n",
       "  <thead>\n",
       "    <tr style=\"text-align: right;\">\n",
       "      <th></th>\n",
       "      <th>seq</th>\n",
       "      <th>label</th>\n",
       "    </tr>\n",
       "  </thead>\n",
       "  <tbody>\n",
       "    <tr>\n",
       "      <th>0</th>\n",
       "      <td>TTAA TTTG TCCT TATT TGAT TAAG AAGA ATAA ATCT T...</td>\n",
       "      <td>1</td>\n",
       "    </tr>\n",
       "    <tr>\n",
       "      <th>1</th>\n",
       "      <td>ATAG CTCA AATT GCTT TATT AGTA TTAG AATC AGCT G...</td>\n",
       "      <td>1</td>\n",
       "    </tr>\n",
       "    <tr>\n",
       "      <th>2</th>\n",
       "      <td>AAGC TTCC CTTT AATG TGCT CCTT GTGA ATAC AGCA T...</td>\n",
       "      <td>1</td>\n",
       "    </tr>\n",
       "    <tr>\n",
       "      <th>3</th>\n",
       "      <td>TATG TAGA ATCT GTAC AAGT ATCT GTGT TTGG ACAA T...</td>\n",
       "      <td>1</td>\n",
       "    </tr>\n",
       "    <tr>\n",
       "      <th>4</th>\n",
       "      <td>ACAT ATTA CTGC ATAC AGGT CTCA AATT ATAA AATG A...</td>\n",
       "      <td>1</td>\n",
       "    </tr>\n",
       "    <tr>\n",
       "      <th>...</th>\n",
       "      <td>...</td>\n",
       "      <td>...</td>\n",
       "    </tr>\n",
       "    <tr>\n",
       "      <th>22595</th>\n",
       "      <td>TGGT AAAA AATT GTAC ACCT AACT AGTG CCTT CATG T...</td>\n",
       "      <td>0</td>\n",
       "    </tr>\n",
       "    <tr>\n",
       "      <th>22596</th>\n",
       "      <td>AGTG CAAC TGGA GCCG TGCC GTGA CCCA CAGA GATC G...</td>\n",
       "      <td>0</td>\n",
       "    </tr>\n",
       "    <tr>\n",
       "      <th>22597</th>\n",
       "      <td>GCAT GGAT TTCA TATT ATCT TAAT CGAC TTGC TTTT A...</td>\n",
       "      <td>0</td>\n",
       "    </tr>\n",
       "    <tr>\n",
       "      <th>22598</th>\n",
       "      <td>GTGA CCAG GTTT TGCT CTAA TGCG AAGT ACGG ATTG G...</td>\n",
       "      <td>0</td>\n",
       "    </tr>\n",
       "    <tr>\n",
       "      <th>22599</th>\n",
       "      <td>TCAT ATTG AAAA TTGA TAAG ATTG ATAT TAAC GTAG C...</td>\n",
       "      <td>0</td>\n",
       "    </tr>\n",
       "  </tbody>\n",
       "</table>\n",
       "<p>22600 rows × 2 columns</p>\n",
       "</div>"
      ],
      "text/plain": [
       "                                                     seq  label\n",
       "0      TTAA TTTG TCCT TATT TGAT TAAG AAGA ATAA ATCT T...      1\n",
       "1      ATAG CTCA AATT GCTT TATT AGTA TTAG AATC AGCT G...      1\n",
       "2      AAGC TTCC CTTT AATG TGCT CCTT GTGA ATAC AGCA T...      1\n",
       "3      TATG TAGA ATCT GTAC AAGT ATCT GTGT TTGG ACAA T...      1\n",
       "4      ACAT ATTA CTGC ATAC AGGT CTCA AATT ATAA AATG A...      1\n",
       "...                                                  ...    ...\n",
       "22595  TGGT AAAA AATT GTAC ACCT AACT AGTG CCTT CATG T...      0\n",
       "22596  AGTG CAAC TGGA GCCG TGCC GTGA CCCA CAGA GATC G...      0\n",
       "22597  GCAT GGAT TTCA TATT ATCT TAAT CGAC TTGC TTTT A...      0\n",
       "22598  GTGA CCAG GTTT TGCT CTAA TGCG AAGT ACGG ATTG G...      0\n",
       "22599  TCAT ATTG AAAA TTGA TAAG ATTG ATAT TAAC GTAG C...      0\n",
       "\n",
       "[22600 rows x 2 columns]"
      ]
     },
     "execution_count": 21,
     "metadata": {},
     "output_type": "execute_result"
    }
   ],
   "source": [
    "df = pd.concat([df_promo,df_non_promo])\n",
    "\n",
    "df = df.reset_index(drop=True)\n",
    "df.rename({0:'seq','label':'label'},axis=1, inplace=True)\n",
    "df"
   ]
  },
  {
   "cell_type": "code",
   "execution_count": 22,
   "metadata": {},
   "outputs": [],
   "source": [
    "X = df['seq']\n",
    "y = df['label']\n",
    "\n",
    "y.value_counts(normalize=True)\n",
    "\n",
    "X_train, X_test, y_train, y_test = train_test_split(X,\n",
    "                                                    y,\n",
    "                                                    test_size=0.2,\n",
    "                                                    stratify=y,\n",
    "                                                    random_state=42)\n"
   ]
  },
  {
   "cell_type": "code",
   "execution_count": 23,
   "metadata": {},
   "outputs": [
    {
     "data": {
      "text/plain": [
       "Int64Index([22259, 11097,  5902, 11671, 15595,  8088,  7152, 15893,  1808,\n",
       "            20579,\n",
       "            ...\n",
       "             9943, 13254, 21312, 17475,  5848,  9974, 10275,  3889,  3713,\n",
       "             8682],\n",
       "           dtype='int64', length=18080)"
      ]
     },
     "execution_count": 23,
     "metadata": {},
     "output_type": "execute_result"
    }
   ],
   "source": [
    "X_train.index"
   ]
  },
  {
   "cell_type": "code",
   "execution_count": 24,
   "metadata": {},
   "outputs": [],
   "source": [
    "vocab_size=300\n",
    "embedding_dim=64\n",
    "max_length=400\n",
    "trunc_type='post' \n",
    "padding_type='post' \n",
    "oov_tok='<OOV>' \n",
    "\n"
   ]
  },
  {
   "cell_type": "code",
   "execution_count": 25,
   "metadata": {
    "scrolled": true
   },
   "outputs": [
    {
     "data": {
      "text/plain": [
       "374"
      ]
     },
     "execution_count": 25,
     "metadata": {},
     "output_type": "execute_result"
    }
   ],
   "source": [
    "A=[len(X_train[i]) for i in X_train.index]\n",
    "max(A)"
   ]
  },
  {
   "cell_type": "code",
   "execution_count": 26,
   "metadata": {},
   "outputs": [],
   "source": [
    "tokenizer=Tokenizer(num_words=vocab_size,oov_token=oov_tok)\n",
    "tokenizer.fit_on_texts(X_train)"
   ]
  },
  {
   "cell_type": "code",
   "execution_count": 27,
   "metadata": {
    "scrolled": true
   },
   "outputs": [
    {
     "name": "stdout",
     "output_type": "stream",
     "text": [
      "OrderedDict([('cctt', 3658), ('ggac', 2568), ('agcg', 4465), ('attg', 7585), ('tacg', 2708), ('gctt', 5416), ('tggc', 6002), ('gatg', 4116), ('actt', 6639), ('aaaa', 22944), ('aatg', 7596), ('aatt', 14440), ('cttt', 7928), ('tagt', 4370), ('tatc', 5306), ('aata', 12719), ('tatt', 11851), ('ttgc', 6793), ('tgtt', 8631), ('atgt', 6179), ('ggta', 3044), ('cctc', 2635), ('ctgc', 5767), ('taaa', 14096), ('gtgt', 5432), ('attt', 16786), ('catt', 7626), ('ggca', 4746), ('atat', 11858), ('acta', 4509), ('tttg', 10585), ('gtcg', 3472), ('cgaa', 6262), ('attc', 6996), ('gcgc', 4030), ('tgaa', 7934), ('gtaa', 5542), ('acaa', 8736), ('atta', 9456), ('gagt', 4063), ('gata', 5574), ('gtag', 2670), ('tcgc', 4911), ('cagg', 2998), ('tatg', 4881), ('atac', 5272), ('caac', 5963), ('aaag', 8942), ('gaat', 6873), ('ttag', 4729), ('ttac', 4948), ('ccat', 4567), ('ttat', 10504), ('gcat', 4771), ('aagt', 7546), ('tttt', 20477), ('tata', 9537), ('tttc', 10085), ('gccg', 4067), ('aatc', 7120), ('cggt', 3067), ('tcac', 3843), ('gtcc', 2549), ('tggt', 4652), ('ggct', 3527), ('cgtg', 3296), ('ctcg', 3228), ('tctg', 4600), ('tgcg', 4679), ('ttta', 12895), ('ctgg', 4407), ('ccgg', 2588), ('tcaa', 7274), ('agtc', 4038), ('gcgt', 3407), ('atca', 5891), ('gttt', 9121), ('gctg', 6198), ('ccgt', 2734), ('ctgt', 4652), ('gttc', 4573), ('gtgg', 4440), ('gtga', 4471), ('ccgc', 3852), ('accg', 3095), ('cttg', 4130), ('ttcg', 6058), ('gatt', 6420), ('catc', 4379), ('tcgt', 4020), ('agat', 5111), ('cata', 5108), ('tgga', 5341), ('aaac', 9905), ('ctat', 4441), ('tgtg', 6721), ('cgcc', 4042), ('gtca', 3717), ('agtt', 8009), ('acac', 5269), ('ttga', 6794), ('aaat', 17669), ('tgtc', 3831), ('aacg', 4923), ('caaa', 11462), ('ggtc', 2741), ('ctcc', 3221), ('ctca', 3522), ('taca', 5597), ('aagc', 6082), ('gaga', 4360), ('gtat', 5019), ('taat', 9434), ('tcag', 4442), ('tgca', 6574), ('gcga', 4740), ('ttgg', 6271), ('tagc', 3790), ('tggg', 3496), ('cgag', 3762), ('caga', 4707), ('acgg', 2795), ('actg', 4809), ('acag', 4707), ('gaaa', 10960), ('ataa', 11827), ('agtg', 5964), ('tccg', 3444), ('acct', 2897), ('acgt', 2970), ('atgc', 4672), ('cggc', 3841), ('ctta', 4726), ('ttcc', 5368), ('gggc', 2616), ('gcaa', 7429), ('aaca', 9303), ('gtac', 2785), ('gacg', 2862), ('cgga', 3544), ('gcag', 5872), ('gagg', 2786), ('gctc', 4232), ('cagc', 6497), ('gtta', 4977), ('tgac', 3507), ('caat', 7536), ('agta', 4818), ('ccaa', 6836), ('ctaa', 4774), ('aaga', 6651), ('gaca', 3908), ('atga', 4921), ('acat', 6289), ('gggg', 1839), ('ttct', 6495), ('atgg', 4399), ('tcga', 6057), ('tcct', 3289), ('gcgg', 3808), ('atct', 4878), ('gtct', 2907), ('cccg', 2212), ('cgtc', 2627), ('gccc', 3094), ('ggcc', 3461), ('tctc', 3961), ('atcc', 3929), ('ttaa', 12349), ('gagc', 4381), ('cggg', 1967), ('ttgt', 8338), ('ccct', 2440), ('gcac', 4355), ('taga', 3792), ('ggtg', 3820), ('gact', 3240), ('aact', 6935), ('tgct', 5933), ('agaa', 7500), ('agac', 3033), ('accc', 2712), ('gatc', 3756), ('cttc', 4333), ('ctga', 4302), ('cact', 4821), ('ggat', 3703), ('tgcc', 4928), ('cacg', 2988), ('gtgc', 4931), ('ttca', 7337), ('tgta', 5530), ('aagg', 3885), ('acgc', 3299), ('acga', 4132), ('ccac', 4428), ('gaag', 4771), ('gaac', 4533), ('cacc', 3819), ('ccca', 3940), ('gttg', 5648), ('gcca', 6130), ('agct', 5678), ('cgac', 3104), ('caca', 5806), ('ggtt', 3825), ('ctct', 4191), ('agcc', 4078), ('cctg', 3345), ('tctt', 5464), ('tgag', 3901), ('tacc', 2940), ('cgca', 4582), ('catg', 3457), ('ctac', 2802), ('tcca', 5007), ('cagt', 5348), ('atcg', 6160), ('ggaa', 5639), ('cgat', 5622), ('tcta', 3995), ('atag', 4561), ('tgat', 5421), ('agca', 6291), ('ggcg', 3816), ('cgta', 2694), ('ggag', 3731), ('aggg', 2162), ('ccag', 4573), ('cgtt', 4375), ('tagg', 2130), ('taac', 5055), ('acca', 4967), ('aggc', 3047), ('cgct', 4198), ('ggga', 2710), ('tact', 4159), ('caag', 5276), ('agga', 3838), ('gggt', 2232), ('gacc', 2508), ('gcta', 3763), ('actc', 3657), ('tcat', 4950), ('agag', 4226), ('tccc', 3098), ('cgcg', 3252), ('taag', 5234), ('gcct', 3023), ('ccga', 3837), ('ctag', 2404), ('aacc', 4420), ('cccc', 2282), ('tcgg', 3749), ('aggt', 2908), ('ccta', 2302), ('nnnn', 10)])\n"
     ]
    }
   ],
   "source": [
    "print(tokenizer.word_counts)"
   ]
  },
  {
   "cell_type": "code",
   "execution_count": 28,
   "metadata": {},
   "outputs": [],
   "source": [
    "train_seq=tokenizer.texts_to_sequences(X_train)"
   ]
  },
  {
   "cell_type": "code",
   "execution_count": 29,
   "metadata": {},
   "outputs": [],
   "source": [
    "train_padded=pad_sequences(train_seq,maxlen=max_length, padding=padding_type, truncating=trunc_type)"
   ]
  },
  {
   "cell_type": "code",
   "execution_count": 30,
   "metadata": {
    "scrolled": true
   },
   "outputs": [],
   "source": [
    "test_seq=tokenizer.texts_to_sequences(X_test)\n",
    "test_padded=pad_sequences(test_seq,maxlen=max_length, padding=padding_type, truncating=trunc_type)"
   ]
  },
  {
   "cell_type": "code",
   "execution_count": 31,
   "metadata": {},
   "outputs": [],
   "source": [
    "le=LabelEncoder()\n",
    "y_train=le.fit_transform(y_train)\n",
    "y_test=le.transform(y_test)"
   ]
  },
  {
   "cell_type": "code",
   "execution_count": 32,
   "metadata": {},
   "outputs": [],
   "source": [
    "y_train=to_categorical(y_train,2)\n",
    "y_test=to_categorical(y_test,2)\n"
   ]
  },
  {
   "cell_type": "code",
   "execution_count": 33,
   "metadata": {},
   "outputs": [],
   "source": [
    "model=Sequential()\n",
    "model.add(Embedding(vocab_size, embedding_dim, input_length=max_length))\n",
    "model.add(Bidirectional(LSTM(64,return_sequences=True)))\n",
    "model.add(Bidirectional(LSTM(32)))\n",
    "model.add(Dense(2,activation='softmax'))"
   ]
  },
  {
   "cell_type": "code",
   "execution_count": 34,
   "metadata": {},
   "outputs": [],
   "source": [
    "model.compile(loss='categorical_crossentropy', optimizer='adam', metrics=['acc']) #binary_crossentropy"
   ]
  },
  {
   "cell_type": "code",
   "execution_count": 35,
   "metadata": {},
   "outputs": [
    {
     "name": "stdout",
     "output_type": "stream",
     "text": [
      "Epoch 1/7\n",
      "181/181 [==============================] - 429s 2s/step - loss: 0.6160 - acc: 0.6323 - val_loss: 0.4819 - val_acc: 0.7712\n",
      "Epoch 2/7\n",
      "181/181 [==============================] - 428s 2s/step - loss: 0.4479 - acc: 0.7948 - val_loss: 0.4514 - val_acc: 0.7923\n",
      "Epoch 3/7\n",
      "181/181 [==============================] - 430s 2s/step - loss: 0.4263 - acc: 0.8142 - val_loss: 0.4381 - val_acc: 0.8035\n",
      "Epoch 4/7\n",
      "181/181 [==============================] - 438s 2s/step - loss: 0.3775 - acc: 0.8389 - val_loss: 0.4097 - val_acc: 0.8159\n",
      "Epoch 5/7\n",
      "181/181 [==============================] - 439s 2s/step - loss: 0.3606 - acc: 0.8478 - val_loss: 0.4004 - val_acc: 0.8221\n",
      "Epoch 6/7\n",
      "181/181 [==============================] - 441s 2s/step - loss: 0.3400 - acc: 0.8568 - val_loss: 0.3953 - val_acc: 0.8279\n",
      "Epoch 7/7\n",
      "181/181 [==============================] - 436s 2s/step - loss: 0.3271 - acc: 0.8608 - val_loss: 0.3973 - val_acc: 0.8263\n"
     ]
    }
   ],
   "source": [
    "history=model.fit(train_padded,y_train,validation_data=(test_padded,y_test),batch_size=100, epochs=7)"
   ]
  },
  {
   "cell_type": "code",
   "execution_count": 36,
   "metadata": {},
   "outputs": [],
   "source": [
    "testmain_df = pd.read_csv('data/test.csv')\n"
   ]
  },
  {
   "cell_type": "code",
   "execution_count": 37,
   "metadata": {},
   "outputs": [
    {
     "data": {
      "text/plain": [
       "0      AATC TCTG TTGT TGTT ATGC AAAA AAGG AATA ATGT A...\n",
       "1      TTCT CTAA GAAA GTCG ATGC TAAG CGGA TGCT AAAC G...\n",
       "2      ACAT TTTA CGGT CTTG CGTG TGTA TTTA TTGT TCGT A...\n",
       "3      CACT GAAA AAAA AAGA AAGG CTTA TTTA CTAT TAAC A...\n",
       "4      GGGA GTGG CAAC ATGG GCTC ACAA GTCT AGAT CGAC T...\n",
       "                             ...                        \n",
       "173    TAAA TTGC ATGT AAAA TCAT TAAT AACG ATTA TATT C...\n",
       "174    GGAT GTGC TTAG TGTA ATTT GCTT ATAA AAAC TACT T...\n",
       "175    ATTC AGAA ATTA CATG TTTC TGAA AACT CTTT CCGA T...\n",
       "176    ACGG TTTT AAGT GCCC AAAC TTAG GGTG TAGC GCCC T...\n",
       "177    CTCA TCGC TCTG TTTG CCGA GGCT GGTT TTGT AGTT G...\n",
       "Name: seq, Length: 178, dtype: object"
      ]
     },
     "execution_count": 37,
     "metadata": {},
     "output_type": "execute_result"
    }
   ],
   "source": [
    "sequence=[seq for seq in testmain_df['Sequence']]\n",
    "\n",
    "words_test_promo = []\n",
    "for row in sequence:\n",
    "    if len(row)%4==0:\n",
    "        words_test_promo.append([(row[i:i+4]) for i in range(0, len(row), 4)])\n",
    "    else:\n",
    "        remove = len(row) % 4\n",
    "        row = row[:-remove]\n",
    "        words_test_promo.append([(row[i:i+4]) for i in range(0, len(row), 4)])\n",
    "\n",
    "for i in range(len(words_test_promo)):\n",
    "    words_test_promo[i] = \" \".join(words_test_promo[i])\n",
    "\n",
    "testmain_df_plus=pd.DataFrame(words_test_promo)\n",
    "testmain_df_plus = testmain_df_plus.reset_index(drop=True)\n",
    "testmain_df_plus.rename({0:'seq'},axis=1, inplace=True)\n",
    "testmain_df_plus['seq']"
   ]
  },
  {
   "cell_type": "code",
   "execution_count": 38,
   "metadata": {},
   "outputs": [
    {
     "data": {
      "text/plain": [
       "array([[ 41, 126,  28, ...,   0,   0,   0],\n",
       "       [ 53, 113,  15, ...,   0,   0,   0],\n",
       "       [ 56,   8, 217, ...,   0,   0,   0],\n",
       "       ...,\n",
       "       [ 42,  37,  21, ...,   0,   0,   0],\n",
       "       [231,   3,  35, ...,   0,   0,   0],\n",
       "       [197, 107, 126, ...,   0,   0,   0]])"
      ]
     },
     "execution_count": 38,
     "metadata": {},
     "output_type": "execute_result"
    }
   ],
   "source": [
    "#tokenizer.fit_on_texts(testmain_df_plus['seq'])\n",
    "testmain_seq=tokenizer.texts_to_sequences(testmain_df_plus['seq'])\n",
    "testmain_padded=pad_sequences(testmain_seq,maxlen=max_length, padding=padding_type, truncating=trunc_type)\n",
    "testmain_padded"
   ]
  },
  {
   "cell_type": "code",
   "execution_count": 39,
   "metadata": {},
   "outputs": [
    {
     "data": {
      "text/plain": [
       "178"
      ]
     },
     "execution_count": 39,
     "metadata": {},
     "output_type": "execute_result"
    }
   ],
   "source": [
    "y_pred=model.predict(testmain_padded)\n",
    "len(y_pred)"
   ]
  },
  {
   "cell_type": "code",
   "execution_count": 40,
   "metadata": {},
   "outputs": [
    {
     "data": {
      "text/plain": [
       "array([[0.86497116, 0.13502881],\n",
       "       [0.1641024 , 0.8358976 ],\n",
       "       [0.28488517, 0.71511483],\n",
       "       [0.979091  , 0.02090893],\n",
       "       [0.949178  , 0.05082207],\n",
       "       [0.9081046 , 0.09189541],\n",
       "       [0.10382894, 0.89617103],\n",
       "       [0.43159777, 0.5684023 ],\n",
       "       [0.8232943 , 0.17670576],\n",
       "       [0.11077201, 0.889228  ],\n",
       "       [0.03790273, 0.9620973 ],\n",
       "       [0.7384129 , 0.26158708],\n",
       "       [0.7693344 , 0.2306656 ],\n",
       "       [0.66319096, 0.33680907],\n",
       "       [0.84207296, 0.15792698],\n",
       "       [0.09285783, 0.9071422 ],\n",
       "       [0.9774383 , 0.02256173],\n",
       "       [0.5506794 , 0.4493206 ],\n",
       "       [0.20775907, 0.7922409 ],\n",
       "       [0.65255153, 0.34744847],\n",
       "       [0.890158  , 0.10984198],\n",
       "       [0.23941226, 0.76058775],\n",
       "       [0.1387364 , 0.86126363],\n",
       "       [0.7168374 , 0.28316256],\n",
       "       [0.5007619 , 0.499238  ],\n",
       "       [0.17120457, 0.82879543],\n",
       "       [0.15753421, 0.8424658 ],\n",
       "       [0.11153081, 0.88846916],\n",
       "       [0.07080887, 0.9291911 ],\n",
       "       [0.29491842, 0.7050816 ],\n",
       "       [0.9157878 , 0.08421224],\n",
       "       [0.77052265, 0.22947732],\n",
       "       [0.10610553, 0.8938945 ],\n",
       "       [0.5703396 , 0.4296603 ],\n",
       "       [0.09725069, 0.90274924],\n",
       "       [0.97969306, 0.02030692],\n",
       "       [0.85060924, 0.14939076],\n",
       "       [0.39494586, 0.60505414],\n",
       "       [0.85596746, 0.14403254],\n",
       "       [0.90779275, 0.09220719],\n",
       "       [0.365446  , 0.6345541 ],\n",
       "       [0.32244393, 0.67755604],\n",
       "       [0.59809476, 0.40190527],\n",
       "       [0.15190198, 0.84809804],\n",
       "       [0.3860223 , 0.61397773],\n",
       "       [0.14998227, 0.8500177 ],\n",
       "       [0.90214676, 0.09785321],\n",
       "       [0.967131  , 0.03286903],\n",
       "       [0.2030916 , 0.7969084 ],\n",
       "       [0.2465842 , 0.75341576],\n",
       "       [0.08814567, 0.9118544 ],\n",
       "       [0.926686  , 0.07331406],\n",
       "       [0.9515649 , 0.04843507],\n",
       "       [0.94810337, 0.05189664],\n",
       "       [0.07632092, 0.9236791 ],\n",
       "       [0.9653937 , 0.03460633],\n",
       "       [0.63006914, 0.36993083],\n",
       "       [0.22351642, 0.77648354],\n",
       "       [0.7439275 , 0.25607252],\n",
       "       [0.35006902, 0.649931  ],\n",
       "       [0.8948386 , 0.10516144],\n",
       "       [0.05270591, 0.9472942 ],\n",
       "       [0.6861229 , 0.3138771 ],\n",
       "       [0.49180526, 0.5081947 ],\n",
       "       [0.65991473, 0.34008527],\n",
       "       [0.95458364, 0.04541636],\n",
       "       [0.8062366 , 0.19376343],\n",
       "       [0.54750687, 0.45249307],\n",
       "       [0.86622673, 0.13377331],\n",
       "       [0.34299076, 0.6570093 ],\n",
       "       [0.9568726 , 0.04312743],\n",
       "       [0.7518471 , 0.24815297],\n",
       "       [0.6883204 , 0.31167963],\n",
       "       [0.02546824, 0.9745318 ],\n",
       "       [0.05207488, 0.9479251 ],\n",
       "       [0.86514354, 0.13485652],\n",
       "       [0.17661071, 0.8233893 ],\n",
       "       [0.09889201, 0.90110797],\n",
       "       [0.8926583 , 0.10734172],\n",
       "       [0.57739514, 0.42260483],\n",
       "       [0.10607536, 0.8939246 ],\n",
       "       [0.4852919 , 0.51470804],\n",
       "       [0.24908635, 0.7509136 ],\n",
       "       [0.8053811 , 0.1946189 ],\n",
       "       [0.7669617 , 0.23303834],\n",
       "       [0.03357442, 0.9664256 ],\n",
       "       [0.8359041 , 0.16409588],\n",
       "       [0.08503395, 0.91496605],\n",
       "       [0.7693344 , 0.2306656 ],\n",
       "       [0.9695719 , 0.03042815],\n",
       "       [0.02659828, 0.9734018 ],\n",
       "       [0.8588369 , 0.14116308],\n",
       "       [0.8569079 , 0.1430921 ],\n",
       "       [0.8173481 , 0.18265189],\n",
       "       [0.07580606, 0.9241939 ],\n",
       "       [0.98816144, 0.01183857],\n",
       "       [0.0273098 , 0.9726902 ],\n",
       "       [0.8164403 , 0.18355969],\n",
       "       [0.9567846 , 0.04321541],\n",
       "       [0.06748344, 0.93251663],\n",
       "       [0.8320086 , 0.16799134],\n",
       "       [0.47934994, 0.52065   ],\n",
       "       [0.24826321, 0.75173676],\n",
       "       [0.8041418 , 0.1958582 ],\n",
       "       [0.6489178 , 0.3510822 ],\n",
       "       [0.7215734 , 0.27842656],\n",
       "       [0.1230901 , 0.8769099 ],\n",
       "       [0.7812519 , 0.21874814],\n",
       "       [0.44841778, 0.55158216],\n",
       "       [0.32906213, 0.6709379 ],\n",
       "       [0.72365206, 0.276348  ],\n",
       "       [0.8674442 , 0.13255575],\n",
       "       [0.861152  , 0.138848  ],\n",
       "       [0.9065993 , 0.09340078],\n",
       "       [0.44922462, 0.5507754 ],\n",
       "       [0.69310474, 0.30689526],\n",
       "       [0.3270472 , 0.6729528 ],\n",
       "       [0.24681951, 0.7531805 ],\n",
       "       [0.83661515, 0.16338481],\n",
       "       [0.43809706, 0.56190294],\n",
       "       [0.97331816, 0.02668183],\n",
       "       [0.47377637, 0.5262236 ],\n",
       "       [0.8414355 , 0.15856451],\n",
       "       [0.4918053 , 0.5081947 ],\n",
       "       [0.02951698, 0.97048306],\n",
       "       [0.09590176, 0.9040983 ],\n",
       "       [0.38094875, 0.6190513 ],\n",
       "       [0.8400336 , 0.1599664 ],\n",
       "       [0.70707035, 0.29292965],\n",
       "       [0.96587443, 0.03412557],\n",
       "       [0.12708506, 0.87291497],\n",
       "       [0.0454981 , 0.95450187],\n",
       "       [0.04641145, 0.95358855],\n",
       "       [0.05161469, 0.94838524],\n",
       "       [0.9792396 , 0.02076042],\n",
       "       [0.11543627, 0.88456374],\n",
       "       [0.96972567, 0.03027428],\n",
       "       [0.5778131 , 0.42218688],\n",
       "       [0.8782825 , 0.12171753],\n",
       "       [0.2447316 , 0.75526845],\n",
       "       [0.64359915, 0.3564009 ],\n",
       "       [0.9324047 , 0.06759533],\n",
       "       [0.9264768 , 0.07352322],\n",
       "       [0.90383303, 0.09616696],\n",
       "       [0.05920804, 0.94079196],\n",
       "       [0.87221056, 0.12778944],\n",
       "       [0.7715387 , 0.2284614 ],\n",
       "       [0.64411104, 0.35588893],\n",
       "       [0.7438922 , 0.25610784],\n",
       "       [0.8383065 , 0.16169347],\n",
       "       [0.8616013 , 0.13839866],\n",
       "       [0.76619405, 0.23380592],\n",
       "       [0.2676165 , 0.73238343],\n",
       "       [0.4968039 , 0.5031962 ],\n",
       "       [0.40766966, 0.59233034],\n",
       "       [0.6390931 , 0.36090693],\n",
       "       [0.12626138, 0.8737386 ],\n",
       "       [0.93296784, 0.06703213],\n",
       "       [0.06143281, 0.9385672 ],\n",
       "       [0.24125618, 0.7587438 ],\n",
       "       [0.23876663, 0.7612333 ],\n",
       "       [0.4598877 , 0.54011226],\n",
       "       [0.11742365, 0.8825764 ],\n",
       "       [0.41116884, 0.5888311 ],\n",
       "       [0.52594805, 0.474052  ],\n",
       "       [0.02160646, 0.9783935 ],\n",
       "       [0.90987957, 0.09012048],\n",
       "       [0.9042649 , 0.09573511],\n",
       "       [0.88116854, 0.11883144],\n",
       "       [0.5565732 , 0.4434268 ],\n",
       "       [0.3092377 , 0.69076234],\n",
       "       [0.7017831 , 0.29821688],\n",
       "       [0.94203436, 0.05796567],\n",
       "       [0.3532037 , 0.6467963 ],\n",
       "       [0.49431396, 0.50568604],\n",
       "       [0.953709  , 0.04629095],\n",
       "       [0.8317262 , 0.16827382],\n",
       "       [0.66212255, 0.33787745]], dtype=float32)"
      ]
     },
     "execution_count": 40,
     "metadata": {},
     "output_type": "execute_result"
    }
   ],
   "source": [
    "y_pred"
   ]
  },
  {
   "cell_type": "code",
   "execution_count": 41,
   "metadata": {},
   "outputs": [
    {
     "data": {
      "text/plain": [
       "[0,\n",
       " 1,\n",
       " 1,\n",
       " 0,\n",
       " 0,\n",
       " 0,\n",
       " 1,\n",
       " 1,\n",
       " 0,\n",
       " 1,\n",
       " 1,\n",
       " 0,\n",
       " 0,\n",
       " 0,\n",
       " 0,\n",
       " 1,\n",
       " 0,\n",
       " 0,\n",
       " 1,\n",
       " 0,\n",
       " 0,\n",
       " 1,\n",
       " 1,\n",
       " 0,\n",
       " 0,\n",
       " 1,\n",
       " 1,\n",
       " 1,\n",
       " 1,\n",
       " 1,\n",
       " 0,\n",
       " 0,\n",
       " 1,\n",
       " 0,\n",
       " 1,\n",
       " 0,\n",
       " 0,\n",
       " 1,\n",
       " 0,\n",
       " 0,\n",
       " 1,\n",
       " 1,\n",
       " 0,\n",
       " 1,\n",
       " 1,\n",
       " 1,\n",
       " 0,\n",
       " 0,\n",
       " 1,\n",
       " 1,\n",
       " 1,\n",
       " 0,\n",
       " 0,\n",
       " 0,\n",
       " 1,\n",
       " 0,\n",
       " 0,\n",
       " 1,\n",
       " 0,\n",
       " 1,\n",
       " 0,\n",
       " 1,\n",
       " 0,\n",
       " 1,\n",
       " 0,\n",
       " 0,\n",
       " 0,\n",
       " 0,\n",
       " 0,\n",
       " 1,\n",
       " 0,\n",
       " 0,\n",
       " 0,\n",
       " 1,\n",
       " 1,\n",
       " 0,\n",
       " 1,\n",
       " 1,\n",
       " 0,\n",
       " 0,\n",
       " 1,\n",
       " 1,\n",
       " 1,\n",
       " 0,\n",
       " 0,\n",
       " 1,\n",
       " 0,\n",
       " 1,\n",
       " 0,\n",
       " 0,\n",
       " 1,\n",
       " 0,\n",
       " 0,\n",
       " 0,\n",
       " 1,\n",
       " 0,\n",
       " 1,\n",
       " 0,\n",
       " 0,\n",
       " 1,\n",
       " 0,\n",
       " 1,\n",
       " 1,\n",
       " 0,\n",
       " 0,\n",
       " 0,\n",
       " 1,\n",
       " 0,\n",
       " 1,\n",
       " 1,\n",
       " 0,\n",
       " 0,\n",
       " 0,\n",
       " 0,\n",
       " 1,\n",
       " 0,\n",
       " 1,\n",
       " 1,\n",
       " 0,\n",
       " 1,\n",
       " 0,\n",
       " 1,\n",
       " 0,\n",
       " 1,\n",
       " 1,\n",
       " 1,\n",
       " 1,\n",
       " 0,\n",
       " 0,\n",
       " 0,\n",
       " 1,\n",
       " 1,\n",
       " 1,\n",
       " 1,\n",
       " 0,\n",
       " 1,\n",
       " 0,\n",
       " 0,\n",
       " 0,\n",
       " 1,\n",
       " 0,\n",
       " 0,\n",
       " 0,\n",
       " 0,\n",
       " 1,\n",
       " 0,\n",
       " 0,\n",
       " 0,\n",
       " 0,\n",
       " 0,\n",
       " 0,\n",
       " 0,\n",
       " 1,\n",
       " 1,\n",
       " 1,\n",
       " 0,\n",
       " 1,\n",
       " 0,\n",
       " 1,\n",
       " 1,\n",
       " 1,\n",
       " 1,\n",
       " 1,\n",
       " 1,\n",
       " 0,\n",
       " 1,\n",
       " 0,\n",
       " 0,\n",
       " 0,\n",
       " 0,\n",
       " 1,\n",
       " 0,\n",
       " 0,\n",
       " 1,\n",
       " 1,\n",
       " 0,\n",
       " 0,\n",
       " 0]"
      ]
     },
     "execution_count": 41,
     "metadata": {},
     "output_type": "execute_result"
    }
   ],
   "source": [
    "y_pred_plus=[0 if y_pred[i][0]>=0.5 else 1 for i in range(0,len(y_pred))]\n",
    "y_pred_plus "
   ]
  },
  {
   "cell_type": "code",
   "execution_count": 42,
   "metadata": {},
   "outputs": [],
   "source": [
    "testmain_df['predictions']=y_pred_plus"
   ]
  },
  {
   "cell_type": "code",
   "execution_count": 43,
   "metadata": {},
   "outputs": [],
   "source": [
    "testmain_df.to_csv('data/test_RNN.csv',index=False)"
   ]
  }
 ],
 "metadata": {
  "kernelspec": {
   "display_name": "Python 3",
   "language": "python",
   "name": "python3"
  },
  "language_info": {
   "codemirror_mode": {
    "name": "ipython",
    "version": 3
   },
   "file_extension": ".py",
   "mimetype": "text/x-python",
   "name": "python",
   "nbconvert_exporter": "python",
   "pygments_lexer": "ipython3",
   "version": "3.8.5"
  }
 },
 "nbformat": 4,
 "nbformat_minor": 4
}
